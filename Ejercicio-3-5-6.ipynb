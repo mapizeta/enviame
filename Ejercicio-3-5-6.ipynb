{
 "cells": [
  {
   "cell_type": "markdown",
   "id": "shared-elimination",
   "metadata": {},
   "source": [
    "# Ejercicio 3"
   ]
  },
  {
   "cell_type": "code",
   "execution_count": 1,
   "id": "optimum-ordering",
   "metadata": {},
   "outputs": [],
   "source": [
    "text = 'foolishconsistencyisthehobgoblinoflittlemindsadoredbylittlestatesmenandphilosophersanddivineswithconsistencyagreatsoulhassimplynothingtodohemayaswellconcernhimselfwithhisshadowonthewallspeakwhatyouthinknowinhardwordsandtomorrowspeakwhattomorrowthinksinhardwordsagainthoughitcontradicteverythingyousaidtodayahsoyoushallbesuretobemisunderstoodisitsobadthentobemisunderstoodpythagorasanitalavalatinawasmisunderstoodandsocratesandjesusandlutherandcopernicusandgalileoandnewtonandeverypureandwisespiritthatevertookfleshtobegreatistobemisunderstood'\n"
   ]
  },
  {
   "cell_type": "code",
   "execution_count": 2,
   "id": "careful-hypothetical",
   "metadata": {},
   "outputs": [],
   "source": [
    "def findPalindromes(txt):\n",
    "    for n in range(2,len(txt)):\n",
    "        ini = 0\n",
    "        fin = n\n",
    "        for x in txt:\n",
    "            tmp = txt[ini:fin]\n",
    "            if (lambda s:s==s[::-1])(tmp) and len(tmp)==n:\n",
    "                print(tmp)\n",
    "            ini,fin = ini+1,fin+1\n",
    "        "
   ]
  },
  {
   "cell_type": "code",
   "execution_count": 3,
   "id": "conservative-engineer",
   "metadata": {},
   "outputs": [
    {
     "name": "stdout",
     "output_type": "stream",
     "text": [
      "oo\n",
      "tt\n",
      "tt\n",
      "dd\n",
      "ss\n",
      "ll\n",
      "hh\n",
      "ss\n",
      "ll\n",
      "rr\n",
      "tt\n",
      "rr\n",
      "ll\n",
      "oo\n",
      "oo\n",
      "oo\n",
      "tt\n",
      "oo\n",
      "oo\n",
      "sis\n",
      "heh\n",
      "tat\n",
      "nan\n",
      "oso\n",
      "ivi\n",
      "sis\n",
      "odo\n",
      "aya\n",
      "owo\n",
      "nkn\n",
      "omo\n",
      "omo\n",
      "aga\n",
      "eve\n",
      "aya\n",
      "oyo\n",
      "isi\n",
      "asa\n",
      "ala\n",
      "ava\n",
      "ala\n",
      "awa\n",
      "sus\n",
      "lil\n",
      "ndn\n",
      "nan\n",
      "eve\n",
      "ses\n",
      "iri\n",
      "eve\n",
      "orro\n",
      "orro\n",
      "laval\n",
      "alavala\n",
      "talavalat\n",
      "italavalati\n",
      "nitalavalatin\n",
      "anitalavalatina\n"
     ]
    }
   ],
   "source": [
    "findPalindromes(text)"
   ]
  },
  {
   "cell_type": "markdown",
   "id": "interstate-lawsuit",
   "metadata": {},
   "source": [
    "# Ejercicio 5"
   ]
  },
  {
   "cell_type": "markdown",
   "id": "accepting-happening",
   "metadata": {},
   "source": [
    "### Advertencia con esta ejecución ya que a pesar de estar esperando 1 hora aún no encontraba la cantidad deseada"
   ]
  },
  {
   "cell_type": "code",
   "execution_count": null,
   "id": "advised-ceramic",
   "metadata": {},
   "outputs": [],
   "source": [
    "divisores = 1000\n",
    "fibo = lambda n: n if n < 2 else fibo(n-1) + fibo(n-2)\n",
    "divisor = []\n",
    "number = 0\n",
    "while len(divisor)!=divisores:\n",
    "    number+=1\n",
    "    fiboNum = fibo(number)\n",
    "    divisor = [x for x in range(1, fiboNum) if fiboNum % x == 0]\n",
    "    divisor.append(fiboNum)\n",
    "    print(str(fiboNum)+':'+str(len(divisor)))"
   ]
  },
  {
   "cell_type": "markdown",
   "id": "arctic-freeze",
   "metadata": {},
   "source": [
    "# Ejercicio 6"
   ]
  },
  {
   "cell_type": "code",
   "execution_count": 4,
   "id": "ready-silly",
   "metadata": {},
   "outputs": [],
   "source": [
    "import math\n",
    "\n",
    "def entrega(km):\n",
    "    fibo = lambda n: n if n < 2 else fibo(n-1) + fibo(n-2)\n",
    "    rango = math.floor(km*0.01)\n",
    "    return fibo(rango)\n"
   ]
  },
  {
   "cell_type": "code",
   "execution_count": 5,
   "id": "respective-buffalo",
   "metadata": {},
   "outputs": [
    {
     "name": "stdout",
     "output_type": "stream",
     "text": [
      "distancia 295 kms: Entrega: 1 días\n",
      "distancia 1631 kms: Entrega: 987 días\n",
      "distancia 211 kms: Entrega: 1 días\n",
      "distancia 1923 kms: Entrega: 4181 días\n",
      "distancia 141 kms: Entrega: 1 días\n",
      "distancia 1332 kms: Entrega: 233 días\n",
      "distancia 1919 kms: Entrega: 4181 días\n",
      "distancia 1340 kms: Entrega: 233 días\n",
      "distancia 492 kms: Entrega: 3 días\n",
      "distancia 1695 kms: Entrega: 987 días\n",
      "distancia 346 kms: Entrega: 2 días\n",
      "distancia 1669 kms: Entrega: 987 días\n",
      "distancia 712 kms: Entrega: 13 días\n",
      "distancia 70 kms: Entrega: 0 días\n",
      "distancia 1429 kms: Entrega: 377 días\n",
      "distancia 334 kms: Entrega: 2 días\n",
      "distancia 1994 kms: Entrega: 4181 días\n",
      "distancia 615 kms: Entrega: 8 días\n",
      "distancia 1470 kms: Entrega: 377 días\n"
     ]
    }
   ],
   "source": [
    "import random\n",
    "\n",
    "for n in range(1,20):\n",
    "    kms = random.randint(1, 2000)\n",
    "    print('distancia '+str(kms)+' kms: Entrega: '+str(entrega(kms))+' días')"
   ]
  },
  {
   "cell_type": "code",
   "execution_count": null,
   "id": "former-concentrate",
   "metadata": {},
   "outputs": [],
   "source": []
  }
 ],
 "metadata": {
  "kernelspec": {
   "display_name": "Python 3",
   "language": "python",
   "name": "python3"
  },
  "language_info": {
   "codemirror_mode": {
    "name": "ipython",
    "version": 3
   },
   "file_extension": ".py",
   "mimetype": "text/x-python",
   "name": "python",
   "nbconvert_exporter": "python",
   "pygments_lexer": "ipython3",
   "version": "3.9.2"
  }
 },
 "nbformat": 4,
 "nbformat_minor": 5
}
